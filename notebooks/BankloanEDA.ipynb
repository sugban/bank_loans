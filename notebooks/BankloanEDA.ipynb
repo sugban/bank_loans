{
 "cells": [
  {
   "cell_type": "code",
   "execution_count": 1,
   "id": "946400fc",
   "metadata": {},
   "outputs": [],
   "source": [
    "from pathlib import Path\n",
    "\n",
    "import boto3\n",
    "import pandas as pd\n",
    "from decouple import config\n"
   ]
  },
  {
   "cell_type": "code",
   "execution_count": 2,
   "id": "595eedc0",
   "metadata": {},
   "outputs": [],
   "source": [
    "AWS_SECRET_ACCESS_KEY_ID=config('AWS_SECRET_ACCESS_KEY_ID')\n",
    "AWS_SECRET_ACCESS_KEY=config('AWS_SECRET_ACCESS_KEY')\n",
    "REGION_NAME=config('REGION_NAME')"
   ]
  },
  {
   "cell_type": "code",
   "execution_count": 3,
   "id": "4506f5f6",
   "metadata": {},
   "outputs": [],
   "source": [
    "# Set up AWS credentials and S3 bucket details\n",
    "s3 = boto3.client('s3',\n",
    "                  aws_access_key_id=AWS_SECRET_ACCESS_KEY_ID,\n",
    "                  aws_secret_access_key=AWS_SECRET_ACCESS_KEY,\n",
    "                  region_name=REGION_NAME\n",
    "                  )"
   ]
  },
  {
   "cell_type": "code",
   "execution_count": 4,
   "id": "dc12d224",
   "metadata": {},
   "outputs": [],
   "source": [
    "data_dir = Path(\"data\")\n",
    "data_dir.mkdir(parents=True, exist_ok=True)"
   ]
  },
  {
   "cell_type": "code",
   "execution_count": 5,
   "id": "bee56100",
   "metadata": {},
   "outputs": [],
   "source": [
    "bucket_name = 'bankloanportfolio'\n",
    "file_name1 = 'Account.csv'\n",
    "file_name2 = 'Client.csv'\n",
    "file_name3 = 'Loan.csv'\n",
    "file_name4 = 'District.csv'\n",
    "\n",
    "files = [file_name1, file_name2, file_name3, file_name4]\t"
   ]
  },
  {
   "cell_type": "code",
   "execution_count": 6,
   "id": "375871d2",
   "metadata": {},
   "outputs": [],
   "source": [
    "objects = [s3.get_object(Bucket=bucket_name, Key=file) for file in files]\n",
    "dataframes = []\n",
    "\n",
    "# In the script will decompose and turn into functions\n",
    "for file, object in zip(files,objects):\n",
    "    file_path = data_dir/file\n",
    "    file_path.write_bytes(object['Body'].read())\n",
    "    dataframes.append(pd.read_csv(file_path))\n",
    " "
   ]
  },
  {
   "cell_type": "code",
   "execution_count": 7,
   "id": "636199fa",
   "metadata": {},
   "outputs": [],
   "source": [
    "accounts_df, client_df, loan_df, district_df = dataframes"
   ]
  },
  {
   "cell_type": "code",
   "execution_count": 8,
   "id": "84f997da",
   "metadata": {},
   "outputs": [
    {
     "data": {
      "application/vnd.microsoft.datawrangler.viewer.v0+json": {
       "columns": [
        {
         "name": "index",
         "rawType": "object",
         "type": "string"
        },
        {
         "name": "account_id",
         "rawType": "float64",
         "type": "float"
        },
        {
         "name": "district_id",
         "rawType": "float64",
         "type": "float"
        }
       ],
       "conversionMethod": "pd.DataFrame",
       "ref": "dfaea8a3-071b-4c65-ba61-4454f6383100",
       "rows": [
        [
         "count",
         "4499.0",
         "4499.0"
        ],
        [
         "mean",
         "2786.5587908424095",
         "37.3065125583463"
        ],
        [
         "std",
         "2313.8344788198838",
         "25.178634004085747"
        ],
        [
         "min",
         "1.0",
         "1.0"
        ],
        [
         "25%",
         "1183.5",
         "13.0"
        ],
        [
         "50%",
         "2369.0",
         "38.0"
        ],
        [
         "75%",
         "3552.5",
         "60.0"
        ],
        [
         "max",
         "11382.0",
         "77.0"
        ]
       ],
       "shape": {
        "columns": 2,
        "rows": 8
       }
      },
      "text/html": [
       "<div>\n",
       "<style scoped>\n",
       "    .dataframe tbody tr th:only-of-type {\n",
       "        vertical-align: middle;\n",
       "    }\n",
       "\n",
       "    .dataframe tbody tr th {\n",
       "        vertical-align: top;\n",
       "    }\n",
       "\n",
       "    .dataframe thead th {\n",
       "        text-align: right;\n",
       "    }\n",
       "</style>\n",
       "<table border=\"1\" class=\"dataframe\">\n",
       "  <thead>\n",
       "    <tr style=\"text-align: right;\">\n",
       "      <th></th>\n",
       "      <th>account_id</th>\n",
       "      <th>district_id</th>\n",
       "    </tr>\n",
       "  </thead>\n",
       "  <tbody>\n",
       "    <tr>\n",
       "      <th>count</th>\n",
       "      <td>4499.000000</td>\n",
       "      <td>4499.000000</td>\n",
       "    </tr>\n",
       "    <tr>\n",
       "      <th>mean</th>\n",
       "      <td>2786.558791</td>\n",
       "      <td>37.306513</td>\n",
       "    </tr>\n",
       "    <tr>\n",
       "      <th>std</th>\n",
       "      <td>2313.834479</td>\n",
       "      <td>25.178634</td>\n",
       "    </tr>\n",
       "    <tr>\n",
       "      <th>min</th>\n",
       "      <td>1.000000</td>\n",
       "      <td>1.000000</td>\n",
       "    </tr>\n",
       "    <tr>\n",
       "      <th>25%</th>\n",
       "      <td>1183.500000</td>\n",
       "      <td>13.000000</td>\n",
       "    </tr>\n",
       "    <tr>\n",
       "      <th>50%</th>\n",
       "      <td>2369.000000</td>\n",
       "      <td>38.000000</td>\n",
       "    </tr>\n",
       "    <tr>\n",
       "      <th>75%</th>\n",
       "      <td>3552.500000</td>\n",
       "      <td>60.000000</td>\n",
       "    </tr>\n",
       "    <tr>\n",
       "      <th>max</th>\n",
       "      <td>11382.000000</td>\n",
       "      <td>77.000000</td>\n",
       "    </tr>\n",
       "  </tbody>\n",
       "</table>\n",
       "</div>"
      ],
      "text/plain": [
       "         account_id  district_id\n",
       "count   4499.000000  4499.000000\n",
       "mean    2786.558791    37.306513\n",
       "std     2313.834479    25.178634\n",
       "min        1.000000     1.000000\n",
       "25%     1183.500000    13.000000\n",
       "50%     2369.000000    38.000000\n",
       "75%     3552.500000    60.000000\n",
       "max    11382.000000    77.000000"
      ]
     },
     "execution_count": 8,
     "metadata": {},
     "output_type": "execute_result"
    }
   ],
   "source": [
    "accounts_df.describe()"
   ]
  },
  {
   "cell_type": "code",
   "execution_count": 9,
   "id": "ccba567b",
   "metadata": {},
   "outputs": [
    {
     "name": "stdout",
     "output_type": "stream",
     "text": [
      "Account DataFrame:\n"
     ]
    },
    {
     "data": {
      "application/vnd.microsoft.datawrangler.viewer.v0+json": {
       "columns": [
        {
         "name": "index",
         "rawType": "int64",
         "type": "integer"
        },
        {
         "name": "account_id",
         "rawType": "int64",
         "type": "integer"
        },
        {
         "name": "district_id",
         "rawType": "int64",
         "type": "integer"
        },
        {
         "name": "statement_freq",
         "rawType": "object",
         "type": "string"
        },
        {
         "name": "date",
         "rawType": "object",
         "type": "string"
        }
       ],
       "conversionMethod": "pd.DataFrame",
       "ref": "d750c146-d3dd-40ea-a561-3f3a5c445bad",
       "rows": [
        [
         "0",
         "3818",
         "74",
         "Monthly",
         "1993-01-01"
        ],
        [
         "1",
         "704",
         "55",
         "Monthly",
         "1993-01-01"
        ],
        [
         "2",
         "2378",
         "16",
         "Monthly",
         "1993-01-01"
        ],
        [
         "3",
         "2632",
         "24",
         "Monthly",
         "1993-01-02"
        ],
        [
         "4",
         "1972",
         "77",
         "Monthly",
         "1993-01-02"
        ]
       ],
       "shape": {
        "columns": 4,
        "rows": 5
       }
      },
      "text/html": [
       "<div>\n",
       "<style scoped>\n",
       "    .dataframe tbody tr th:only-of-type {\n",
       "        vertical-align: middle;\n",
       "    }\n",
       "\n",
       "    .dataframe tbody tr th {\n",
       "        vertical-align: top;\n",
       "    }\n",
       "\n",
       "    .dataframe thead th {\n",
       "        text-align: right;\n",
       "    }\n",
       "</style>\n",
       "<table border=\"1\" class=\"dataframe\">\n",
       "  <thead>\n",
       "    <tr style=\"text-align: right;\">\n",
       "      <th></th>\n",
       "      <th>account_id</th>\n",
       "      <th>district_id</th>\n",
       "      <th>statement_freq</th>\n",
       "      <th>date</th>\n",
       "    </tr>\n",
       "  </thead>\n",
       "  <tbody>\n",
       "    <tr>\n",
       "      <th>0</th>\n",
       "      <td>3818</td>\n",
       "      <td>74</td>\n",
       "      <td>Monthly</td>\n",
       "      <td>1993-01-01</td>\n",
       "    </tr>\n",
       "    <tr>\n",
       "      <th>1</th>\n",
       "      <td>704</td>\n",
       "      <td>55</td>\n",
       "      <td>Monthly</td>\n",
       "      <td>1993-01-01</td>\n",
       "    </tr>\n",
       "    <tr>\n",
       "      <th>2</th>\n",
       "      <td>2378</td>\n",
       "      <td>16</td>\n",
       "      <td>Monthly</td>\n",
       "      <td>1993-01-01</td>\n",
       "    </tr>\n",
       "    <tr>\n",
       "      <th>3</th>\n",
       "      <td>2632</td>\n",
       "      <td>24</td>\n",
       "      <td>Monthly</td>\n",
       "      <td>1993-01-02</td>\n",
       "    </tr>\n",
       "    <tr>\n",
       "      <th>4</th>\n",
       "      <td>1972</td>\n",
       "      <td>77</td>\n",
       "      <td>Monthly</td>\n",
       "      <td>1993-01-02</td>\n",
       "    </tr>\n",
       "  </tbody>\n",
       "</table>\n",
       "</div>"
      ],
      "text/plain": [
       "   account_id  district_id statement_freq        date\n",
       "0        3818           74        Monthly  1993-01-01\n",
       "1         704           55        Monthly  1993-01-01\n",
       "2        2378           16        Monthly  1993-01-01\n",
       "3        2632           24        Monthly  1993-01-02\n",
       "4        1972           77        Monthly  1993-01-02"
      ]
     },
     "execution_count": 9,
     "metadata": {},
     "output_type": "execute_result"
    }
   ],
   "source": [
    "# Display the first few rows of each DataFrame\n",
    "print(\"Account DataFrame:\")\n",
    "accounts_df.head()"
   ]
  },
  {
   "cell_type": "code",
   "execution_count": 10,
   "id": "20b1ff4a",
   "metadata": {},
   "outputs": [
    {
     "name": "stdout",
     "output_type": "stream",
     "text": [
      "Client DataFrame:\n"
     ]
    },
    {
     "data": {
      "application/vnd.microsoft.datawrangler.viewer.v0+json": {
       "columns": [
        {
         "name": "index",
         "rawType": "int64",
         "type": "integer"
        },
        {
         "name": "client_id",
         "rawType": "int64",
         "type": "integer"
        },
        {
         "name": "district_id",
         "rawType": "int64",
         "type": "integer"
        },
        {
         "name": "gender",
         "rawType": "object",
         "type": "string"
        },
        {
         "name": "DateOfBirth",
         "rawType": "object",
         "type": "string"
        }
       ],
       "conversionMethod": "pd.DataFrame",
       "ref": "c35f43aa-8aa1-4767-a1d1-0a855b360f99",
       "rows": [
        [
         "0",
         "1",
         "18",
         "Female",
         "1970-12-13"
        ],
        [
         "1",
         "2",
         "1",
         "Male",
         "1945-02-04"
        ],
        [
         "2",
         "3",
         "1",
         "Female",
         "1940-10-09"
        ],
        [
         "3",
         "4",
         "5",
         "Male",
         "1956-12-01"
        ],
        [
         "4",
         "5",
         "5",
         "Female",
         "1960-07-03"
        ]
       ],
       "shape": {
        "columns": 4,
        "rows": 5
       }
      },
      "text/html": [
       "<div>\n",
       "<style scoped>\n",
       "    .dataframe tbody tr th:only-of-type {\n",
       "        vertical-align: middle;\n",
       "    }\n",
       "\n",
       "    .dataframe tbody tr th {\n",
       "        vertical-align: top;\n",
       "    }\n",
       "\n",
       "    .dataframe thead th {\n",
       "        text-align: right;\n",
       "    }\n",
       "</style>\n",
       "<table border=\"1\" class=\"dataframe\">\n",
       "  <thead>\n",
       "    <tr style=\"text-align: right;\">\n",
       "      <th></th>\n",
       "      <th>client_id</th>\n",
       "      <th>district_id</th>\n",
       "      <th>gender</th>\n",
       "      <th>DateOfBirth</th>\n",
       "    </tr>\n",
       "  </thead>\n",
       "  <tbody>\n",
       "    <tr>\n",
       "      <th>0</th>\n",
       "      <td>1</td>\n",
       "      <td>18</td>\n",
       "      <td>Female</td>\n",
       "      <td>1970-12-13</td>\n",
       "    </tr>\n",
       "    <tr>\n",
       "      <th>1</th>\n",
       "      <td>2</td>\n",
       "      <td>1</td>\n",
       "      <td>Male</td>\n",
       "      <td>1945-02-04</td>\n",
       "    </tr>\n",
       "    <tr>\n",
       "      <th>2</th>\n",
       "      <td>3</td>\n",
       "      <td>1</td>\n",
       "      <td>Female</td>\n",
       "      <td>1940-10-09</td>\n",
       "    </tr>\n",
       "    <tr>\n",
       "      <th>3</th>\n",
       "      <td>4</td>\n",
       "      <td>5</td>\n",
       "      <td>Male</td>\n",
       "      <td>1956-12-01</td>\n",
       "    </tr>\n",
       "    <tr>\n",
       "      <th>4</th>\n",
       "      <td>5</td>\n",
       "      <td>5</td>\n",
       "      <td>Female</td>\n",
       "      <td>1960-07-03</td>\n",
       "    </tr>\n",
       "  </tbody>\n",
       "</table>\n",
       "</div>"
      ],
      "text/plain": [
       "   client_id  district_id  gender DateOfBirth\n",
       "0          1           18  Female  1970-12-13\n",
       "1          2            1    Male  1945-02-04\n",
       "2          3            1  Female  1940-10-09\n",
       "3          4            5    Male  1956-12-01\n",
       "4          5            5  Female  1960-07-03"
      ]
     },
     "execution_count": 10,
     "metadata": {},
     "output_type": "execute_result"
    }
   ],
   "source": [
    "# Display the first few rows of each DataFrame\n",
    "print(\"Client DataFrame:\")\n",
    "client_df.head()"
   ]
  },
  {
   "cell_type": "code",
   "execution_count": 11,
   "id": "91c4abd7",
   "metadata": {},
   "outputs": [
    {
     "name": "stdout",
     "output_type": "stream",
     "text": [
      "Loan DataFrame:\n"
     ]
    },
    {
     "data": {
      "application/vnd.microsoft.datawrangler.viewer.v0+json": {
       "columns": [
        {
         "name": "index",
         "rawType": "int64",
         "type": "integer"
        },
        {
         "name": "loan_id",
         "rawType": "int64",
         "type": "integer"
        },
        {
         "name": "account_id",
         "rawType": "int64",
         "type": "integer"
        },
        {
         "name": "date",
         "rawType": "object",
         "type": "string"
        },
        {
         "name": "amount",
         "rawType": "int64",
         "type": "integer"
        },
        {
         "name": "duration",
         "rawType": "int64",
         "type": "integer"
        },
        {
         "name": "payments",
         "rawType": "int64",
         "type": "integer"
        },
        {
         "name": "contract_status",
         "rawType": "object",
         "type": "string"
        },
        {
         "name": "isdebt",
         "rawType": "object",
         "type": "string"
        }
       ],
       "conversionMethod": "pd.DataFrame",
       "ref": "e3cf44c9-51f6-41d4-82d4-d1e14bd27415",
       "rows": [
        [
         "0",
         "5314",
         "1787",
         "1993-07-05",
         "96396",
         "12",
         "8033",
         "Contract Closed",
         "Yes"
        ],
        [
         "1",
         "5316",
         "1801",
         "1993-07-11",
         "165960",
         "36",
         "4610",
         "Contract Closed",
         "No"
        ],
        [
         "2",
         "6863",
         "9188",
         "1993-07-28",
         "127080",
         "60",
         "2118",
         "Contract Closed",
         "No"
        ],
        [
         "3",
         "5325",
         "1843",
         "1993-08-03",
         "105804",
         "36",
         "2939",
         "Contract Closed",
         "No"
        ],
        [
         "4",
         "7240",
         "11013",
         "1993-09-06",
         "274740",
         "60",
         "4579",
         "Contract Closed",
         "No"
        ]
       ],
       "shape": {
        "columns": 8,
        "rows": 5
       }
      },
      "text/html": [
       "<div>\n",
       "<style scoped>\n",
       "    .dataframe tbody tr th:only-of-type {\n",
       "        vertical-align: middle;\n",
       "    }\n",
       "\n",
       "    .dataframe tbody tr th {\n",
       "        vertical-align: top;\n",
       "    }\n",
       "\n",
       "    .dataframe thead th {\n",
       "        text-align: right;\n",
       "    }\n",
       "</style>\n",
       "<table border=\"1\" class=\"dataframe\">\n",
       "  <thead>\n",
       "    <tr style=\"text-align: right;\">\n",
       "      <th></th>\n",
       "      <th>loan_id</th>\n",
       "      <th>account_id</th>\n",
       "      <th>date</th>\n",
       "      <th>amount</th>\n",
       "      <th>duration</th>\n",
       "      <th>payments</th>\n",
       "      <th>contract_status</th>\n",
       "      <th>isdebt</th>\n",
       "    </tr>\n",
       "  </thead>\n",
       "  <tbody>\n",
       "    <tr>\n",
       "      <th>0</th>\n",
       "      <td>5314</td>\n",
       "      <td>1787</td>\n",
       "      <td>1993-07-05</td>\n",
       "      <td>96396</td>\n",
       "      <td>12</td>\n",
       "      <td>8033</td>\n",
       "      <td>Contract Closed</td>\n",
       "      <td>Yes</td>\n",
       "    </tr>\n",
       "    <tr>\n",
       "      <th>1</th>\n",
       "      <td>5316</td>\n",
       "      <td>1801</td>\n",
       "      <td>1993-07-11</td>\n",
       "      <td>165960</td>\n",
       "      <td>36</td>\n",
       "      <td>4610</td>\n",
       "      <td>Contract Closed</td>\n",
       "      <td>No</td>\n",
       "    </tr>\n",
       "    <tr>\n",
       "      <th>2</th>\n",
       "      <td>6863</td>\n",
       "      <td>9188</td>\n",
       "      <td>1993-07-28</td>\n",
       "      <td>127080</td>\n",
       "      <td>60</td>\n",
       "      <td>2118</td>\n",
       "      <td>Contract Closed</td>\n",
       "      <td>No</td>\n",
       "    </tr>\n",
       "    <tr>\n",
       "      <th>3</th>\n",
       "      <td>5325</td>\n",
       "      <td>1843</td>\n",
       "      <td>1993-08-03</td>\n",
       "      <td>105804</td>\n",
       "      <td>36</td>\n",
       "      <td>2939</td>\n",
       "      <td>Contract Closed</td>\n",
       "      <td>No</td>\n",
       "    </tr>\n",
       "    <tr>\n",
       "      <th>4</th>\n",
       "      <td>7240</td>\n",
       "      <td>11013</td>\n",
       "      <td>1993-09-06</td>\n",
       "      <td>274740</td>\n",
       "      <td>60</td>\n",
       "      <td>4579</td>\n",
       "      <td>Contract Closed</td>\n",
       "      <td>No</td>\n",
       "    </tr>\n",
       "  </tbody>\n",
       "</table>\n",
       "</div>"
      ],
      "text/plain": [
       "   loan_id  account_id        date  amount  duration  payments  \\\n",
       "0     5314        1787  1993-07-05   96396        12      8033   \n",
       "1     5316        1801  1993-07-11  165960        36      4610   \n",
       "2     6863        9188  1993-07-28  127080        60      2118   \n",
       "3     5325        1843  1993-08-03  105804        36      2939   \n",
       "4     7240       11013  1993-09-06  274740        60      4579   \n",
       "\n",
       "   contract_status isdebt  \n",
       "0  Contract Closed    Yes  \n",
       "1  Contract Closed     No  \n",
       "2  Contract Closed     No  \n",
       "3  Contract Closed     No  \n",
       "4  Contract Closed     No  "
      ]
     },
     "execution_count": 11,
     "metadata": {},
     "output_type": "execute_result"
    }
   ],
   "source": [
    "# Display the first few rows of each DataFrame\n",
    "print(\"Loan DataFrame:\")    \n",
    "loan_df.head()"
   ]
  },
  {
   "cell_type": "code",
   "execution_count": 12,
   "id": "b9bf970f",
   "metadata": {},
   "outputs": [
    {
     "name": "stdout",
     "output_type": "stream",
     "text": [
      "District DataFrame:\n"
     ]
    },
    {
     "data": {
      "application/vnd.microsoft.datawrangler.viewer.v0+json": {
       "columns": [
        {
         "name": "index",
         "rawType": "int64",
         "type": "integer"
        },
        {
         "name": "dis_code",
         "rawType": "int64",
         "type": "integer"
        },
        {
         "name": "dis_name",
         "rawType": "object",
         "type": "string"
        },
        {
         "name": "Region",
         "rawType": "object",
         "type": "string"
        },
        {
         "name": "NoInhb",
         "rawType": "int64",
         "type": "integer"
        },
        {
         "name": "Munclt499",
         "rawType": "int64",
         "type": "integer"
        },
        {
         "name": "Muncllt2000",
         "rawType": "int64",
         "type": "integer"
        },
        {
         "name": "Muncllt3000",
         "rawType": "int64",
         "type": "integer"
        },
        {
         "name": "Muncllt10000",
         "rawType": "int64",
         "type": "integer"
        },
        {
         "name": "NoOfCities",
         "rawType": "int64",
         "type": "integer"
        },
        {
         "name": "RatioUrbInhb",
         "rawType": "float64",
         "type": "float"
        },
        {
         "name": "Avg_Salary",
         "rawType": "int64",
         "type": "integer"
        },
        {
         "name": "UnempRate95",
         "rawType": "float64",
         "type": "float"
        },
        {
         "name": "UnempRate96",
         "rawType": "float64",
         "type": "float"
        },
        {
         "name": "NoOfEnrpr1000hb",
         "rawType": "int64",
         "type": "integer"
        },
        {
         "name": "commitcrime95",
         "rawType": "int64",
         "type": "integer"
        },
        {
         "name": "commitcrime96",
         "rawType": "int64",
         "type": "integer"
        },
        {
         "name": "entpr_rate",
         "rawType": "float64",
         "type": "float"
        },
        {
         "name": "crime_rate",
         "rawType": "float64",
         "type": "float"
        }
       ],
       "conversionMethod": "pd.DataFrame",
       "ref": "d1754126-4df0-4f3f-82db-b130ea03246b",
       "rows": [
        [
         "0",
         "1",
         "Hl.m. Praha",
         "Prague",
         "1204953",
         "0",
         "0",
         "0",
         "1",
         "1",
         "100.0",
         "12541",
         "0.29",
         "0.43",
         "167",
         "85677",
         "99107",
         "0.17",
         "0.07"
        ],
        [
         "1",
         "2",
         "Benesov",
         "central Bohemia",
         "88884",
         "80",
         "26",
         "6",
         "2",
         "5",
         "46.7",
         "8507",
         "1.67",
         "1.85",
         "132",
         "2159",
         "2674",
         "0.13",
         "0.02"
        ],
        [
         "2",
         "3",
         "Beroun",
         "central Bohemia",
         "75232",
         "55",
         "26",
         "4",
         "1",
         "5",
         "41.7",
         "8980",
         "1.95",
         "2.21",
         "111",
         "2824",
         "2813",
         "0.11",
         "0.04"
        ],
        [
         "3",
         "4",
         "Kladno",
         "central Bohemia",
         "149893",
         "63",
         "29",
         "6",
         "2",
         "6",
         "67.4",
         "9753",
         "4.64",
         "5.05",
         "109",
         "5244",
         "5892",
         "0.11",
         "0.03"
        ],
        [
         "4",
         "5",
         "Kolin",
         "central Bohemia",
         "95616",
         "65",
         "30",
         "4",
         "1",
         "6",
         "51.4",
         "9307",
         "3.85",
         "4.43",
         "118",
         "2616",
         "3040",
         "0.12",
         "0.03"
        ]
       ],
       "shape": {
        "columns": 18,
        "rows": 5
       }
      },
      "text/html": [
       "<div>\n",
       "<style scoped>\n",
       "    .dataframe tbody tr th:only-of-type {\n",
       "        vertical-align: middle;\n",
       "    }\n",
       "\n",
       "    .dataframe tbody tr th {\n",
       "        vertical-align: top;\n",
       "    }\n",
       "\n",
       "    .dataframe thead th {\n",
       "        text-align: right;\n",
       "    }\n",
       "</style>\n",
       "<table border=\"1\" class=\"dataframe\">\n",
       "  <thead>\n",
       "    <tr style=\"text-align: right;\">\n",
       "      <th></th>\n",
       "      <th>dis_code</th>\n",
       "      <th>dis_name</th>\n",
       "      <th>Region</th>\n",
       "      <th>NoInhb</th>\n",
       "      <th>Munclt499</th>\n",
       "      <th>Muncllt2000</th>\n",
       "      <th>Muncllt3000</th>\n",
       "      <th>Muncllt10000</th>\n",
       "      <th>NoOfCities</th>\n",
       "      <th>RatioUrbInhb</th>\n",
       "      <th>Avg_Salary</th>\n",
       "      <th>UnempRate95</th>\n",
       "      <th>UnempRate96</th>\n",
       "      <th>NoOfEnrpr1000hb</th>\n",
       "      <th>commitcrime95</th>\n",
       "      <th>commitcrime96</th>\n",
       "      <th>entpr_rate</th>\n",
       "      <th>crime_rate</th>\n",
       "    </tr>\n",
       "  </thead>\n",
       "  <tbody>\n",
       "    <tr>\n",
       "      <th>0</th>\n",
       "      <td>1</td>\n",
       "      <td>Hl.m. Praha</td>\n",
       "      <td>Prague</td>\n",
       "      <td>1204953</td>\n",
       "      <td>0</td>\n",
       "      <td>0</td>\n",
       "      <td>0</td>\n",
       "      <td>1</td>\n",
       "      <td>1</td>\n",
       "      <td>100.0</td>\n",
       "      <td>12541</td>\n",
       "      <td>0.29</td>\n",
       "      <td>0.43</td>\n",
       "      <td>167</td>\n",
       "      <td>85677</td>\n",
       "      <td>99107</td>\n",
       "      <td>0.17</td>\n",
       "      <td>0.07</td>\n",
       "    </tr>\n",
       "    <tr>\n",
       "      <th>1</th>\n",
       "      <td>2</td>\n",
       "      <td>Benesov</td>\n",
       "      <td>central Bohemia</td>\n",
       "      <td>88884</td>\n",
       "      <td>80</td>\n",
       "      <td>26</td>\n",
       "      <td>6</td>\n",
       "      <td>2</td>\n",
       "      <td>5</td>\n",
       "      <td>46.7</td>\n",
       "      <td>8507</td>\n",
       "      <td>1.67</td>\n",
       "      <td>1.85</td>\n",
       "      <td>132</td>\n",
       "      <td>2159</td>\n",
       "      <td>2674</td>\n",
       "      <td>0.13</td>\n",
       "      <td>0.02</td>\n",
       "    </tr>\n",
       "    <tr>\n",
       "      <th>2</th>\n",
       "      <td>3</td>\n",
       "      <td>Beroun</td>\n",
       "      <td>central Bohemia</td>\n",
       "      <td>75232</td>\n",
       "      <td>55</td>\n",
       "      <td>26</td>\n",
       "      <td>4</td>\n",
       "      <td>1</td>\n",
       "      <td>5</td>\n",
       "      <td>41.7</td>\n",
       "      <td>8980</td>\n",
       "      <td>1.95</td>\n",
       "      <td>2.21</td>\n",
       "      <td>111</td>\n",
       "      <td>2824</td>\n",
       "      <td>2813</td>\n",
       "      <td>0.11</td>\n",
       "      <td>0.04</td>\n",
       "    </tr>\n",
       "    <tr>\n",
       "      <th>3</th>\n",
       "      <td>4</td>\n",
       "      <td>Kladno</td>\n",
       "      <td>central Bohemia</td>\n",
       "      <td>149893</td>\n",
       "      <td>63</td>\n",
       "      <td>29</td>\n",
       "      <td>6</td>\n",
       "      <td>2</td>\n",
       "      <td>6</td>\n",
       "      <td>67.4</td>\n",
       "      <td>9753</td>\n",
       "      <td>4.64</td>\n",
       "      <td>5.05</td>\n",
       "      <td>109</td>\n",
       "      <td>5244</td>\n",
       "      <td>5892</td>\n",
       "      <td>0.11</td>\n",
       "      <td>0.03</td>\n",
       "    </tr>\n",
       "    <tr>\n",
       "      <th>4</th>\n",
       "      <td>5</td>\n",
       "      <td>Kolin</td>\n",
       "      <td>central Bohemia</td>\n",
       "      <td>95616</td>\n",
       "      <td>65</td>\n",
       "      <td>30</td>\n",
       "      <td>4</td>\n",
       "      <td>1</td>\n",
       "      <td>6</td>\n",
       "      <td>51.4</td>\n",
       "      <td>9307</td>\n",
       "      <td>3.85</td>\n",
       "      <td>4.43</td>\n",
       "      <td>118</td>\n",
       "      <td>2616</td>\n",
       "      <td>3040</td>\n",
       "      <td>0.12</td>\n",
       "      <td>0.03</td>\n",
       "    </tr>\n",
       "  </tbody>\n",
       "</table>\n",
       "</div>"
      ],
      "text/plain": [
       "   dis_code     dis_name           Region   NoInhb  Munclt499  Muncllt2000  \\\n",
       "0         1  Hl.m. Praha           Prague  1204953          0            0   \n",
       "1         2      Benesov  central Bohemia    88884         80           26   \n",
       "2         3       Beroun  central Bohemia    75232         55           26   \n",
       "3         4       Kladno  central Bohemia   149893         63           29   \n",
       "4         5        Kolin  central Bohemia    95616         65           30   \n",
       "\n",
       "   Muncllt3000  Muncllt10000  NoOfCities  RatioUrbInhb  Avg_Salary  \\\n",
       "0            0             1           1         100.0       12541   \n",
       "1            6             2           5          46.7        8507   \n",
       "2            4             1           5          41.7        8980   \n",
       "3            6             2           6          67.4        9753   \n",
       "4            4             1           6          51.4        9307   \n",
       "\n",
       "   UnempRate95  UnempRate96  NoOfEnrpr1000hb  commitcrime95  commitcrime96  \\\n",
       "0         0.29         0.43              167          85677          99107   \n",
       "1         1.67         1.85              132           2159           2674   \n",
       "2         1.95         2.21              111           2824           2813   \n",
       "3         4.64         5.05              109           5244           5892   \n",
       "4         3.85         4.43              118           2616           3040   \n",
       "\n",
       "   entpr_rate  crime_rate  \n",
       "0        0.17        0.07  \n",
       "1        0.13        0.02  \n",
       "2        0.11        0.04  \n",
       "3        0.11        0.03  \n",
       "4        0.12        0.03  "
      ]
     },
     "execution_count": 12,
     "metadata": {},
     "output_type": "execute_result"
    }
   ],
   "source": [
    "# Display the first few rows of each DataFrame\n",
    "print(\"District DataFrame:\")\n",
    "district_df.head()"
   ]
  },
  {
   "cell_type": "code",
   "execution_count": 13,
   "id": "db44b84e",
   "metadata": {},
   "outputs": [
    {
     "data": {
      "text/plain": [
       "account_id        0\n",
       "district_id       0\n",
       "statement_freq    0\n",
       "date              0\n",
       "dtype: int64"
      ]
     },
     "execution_count": 13,
     "metadata": {},
     "output_type": "execute_result"
    }
   ],
   "source": [
    "accounts_df.isnull().sum()"
   ]
  },
  {
   "cell_type": "code",
   "execution_count": 14,
   "id": "b63ee886",
   "metadata": {},
   "outputs": [
    {
     "data": {
      "text/plain": [
       "client_id      0\n",
       "district_id    0\n",
       "gender         0\n",
       "DateOfBirth    0\n",
       "dtype: int64"
      ]
     },
     "execution_count": 14,
     "metadata": {},
     "output_type": "execute_result"
    }
   ],
   "source": [
    "client_df.isnull().sum()"
   ]
  },
  {
   "cell_type": "code",
   "execution_count": 15,
   "id": "17793f70",
   "metadata": {},
   "outputs": [
    {
     "data": {
      "text/plain": [
       "loan_id            0\n",
       "account_id         0\n",
       "date               0\n",
       "amount             0\n",
       "duration           0\n",
       "payments           0\n",
       "contract_status    0\n",
       "isdebt             0\n",
       "dtype: int64"
      ]
     },
     "execution_count": 15,
     "metadata": {},
     "output_type": "execute_result"
    }
   ],
   "source": [
    "loan_df.isnull().sum()"
   ]
  },
  {
   "cell_type": "code",
   "execution_count": 16,
   "id": "add64fd1",
   "metadata": {},
   "outputs": [
    {
     "data": {
      "text/plain": [
       "dis_code           0\n",
       "dis_name           0\n",
       "Region             0\n",
       "NoInhb             0\n",
       "Munclt499          0\n",
       "Muncllt2000        0\n",
       "Muncllt3000        0\n",
       "Muncllt10000       0\n",
       "NoOfCities         0\n",
       "RatioUrbInhb       0\n",
       "Avg_Salary         0\n",
       "UnempRate95        0\n",
       "UnempRate96        0\n",
       "NoOfEnrpr1000hb    0\n",
       "commitcrime95      0\n",
       "commitcrime96      0\n",
       "entpr_rate         0\n",
       "crime_rate         0\n",
       "dtype: int64"
      ]
     },
     "execution_count": 16,
     "metadata": {},
     "output_type": "execute_result"
    }
   ],
   "source": [
    "district_df.isnull().sum()"
   ]
  },
  {
   "cell_type": "code",
   "execution_count": 17,
   "id": "ff3251e8",
   "metadata": {},
   "outputs": [
    {
     "data": {
      "text/plain": [
       "(Index(['account_id', 'district_id', 'statement_freq', 'date'], dtype='object'),\n",
       " Index(['client_id', 'district_id', 'gender', 'DateOfBirth'], dtype='object'),\n",
       " Index(['loan_id', 'account_id', 'date', 'amount', 'duration', 'payments',\n",
       "        'contract_status', 'isdebt'],\n",
       "       dtype='object'),\n",
       " Index(['dis_code', 'dis_name', 'Region', 'NoInhb', 'Munclt499', 'Muncllt2000',\n",
       "        'Muncllt3000', 'Muncllt10000', 'NoOfCities', 'RatioUrbInhb',\n",
       "        'Avg_Salary', 'UnempRate95', 'UnempRate96', 'NoOfEnrpr1000hb',\n",
       "        'commitcrime95', 'commitcrime96', 'entpr_rate', 'crime_rate'],\n",
       "       dtype='object'))"
      ]
     },
     "execution_count": 17,
     "metadata": {},
     "output_type": "execute_result"
    }
   ],
   "source": [
    "accounts_df.columns, client_df.columns, loan_df.columns, district_df.columns"
   ]
  },
  {
   "cell_type": "code",
   "execution_count": 18,
   "id": "24e99822",
   "metadata": {},
   "outputs": [
    {
     "data": {
      "text/plain": [
       "Index(['district_id', 'dis_name', 'Region', 'NoInhb', 'Munclt499',\n",
       "       'Muncllt2000', 'Muncllt3000', 'Muncllt10000', 'NoOfCities',\n",
       "       'RatioUrbInhb', 'Avg_Salary', 'UnempRate95', 'UnempRate96',\n",
       "       'NoOfEnrpr1000hb', 'commitcrime95', 'commitcrime96', 'entpr_rate',\n",
       "       'crime_rate'],\n",
       "      dtype='object')"
      ]
     },
     "execution_count": 18,
     "metadata": {},
     "output_type": "execute_result"
    }
   ],
   "source": [
    "# Rename columns for consistency\n",
    "district_df.rename(columns={'dis_code':'district_id'}, inplace=True)\n",
    "district_df.columns"
   ]
  },
  {
   "cell_type": "code",
   "execution_count": 19,
   "id": "33d86f3b",
   "metadata": {},
   "outputs": [
    {
     "data": {
      "application/vnd.microsoft.datawrangler.viewer.v0+json": {
       "columns": [
        {
         "name": "index",
         "rawType": "int64",
         "type": "integer"
        },
        {
         "name": "account_id",
         "rawType": "int64",
         "type": "integer"
        },
        {
         "name": "district_id",
         "rawType": "int64",
         "type": "integer"
        },
        {
         "name": "statement_freq",
         "rawType": "object",
         "type": "string"
        },
        {
         "name": "date",
         "rawType": "object",
         "type": "string"
        },
        {
         "name": "client_id",
         "rawType": "int64",
         "type": "integer"
        },
        {
         "name": "gender",
         "rawType": "object",
         "type": "string"
        },
        {
         "name": "DateOfBirth",
         "rawType": "object",
         "type": "string"
        }
       ],
       "conversionMethod": "pd.DataFrame",
       "ref": "ed317fb7-85f3-42fe-8845-a502115d7e91",
       "rows": [
        [
         "0",
         "3818",
         "74",
         "Monthly",
         "1993-01-01",
         "26",
         "Female",
         "1969-04-20"
        ],
        [
         "1",
         "3818",
         "74",
         "Monthly",
         "1993-01-01",
         "30",
         "Female",
         "1957-10-09"
        ],
        [
         "2",
         "3818",
         "74",
         "Monthly",
         "1993-01-01",
         "92",
         "Female",
         "1966-06-12"
        ],
        [
         "3",
         "3818",
         "74",
         "Monthly",
         "1993-01-01",
         "96",
         "Male",
         "1972-02-29"
        ],
        [
         "4",
         "3818",
         "74",
         "Monthly",
         "1993-01-01",
         "102",
         "Female",
         "1958-09-10"
        ]
       ],
       "shape": {
        "columns": 7,
        "rows": 5
       }
      },
      "text/html": [
       "<div>\n",
       "<style scoped>\n",
       "    .dataframe tbody tr th:only-of-type {\n",
       "        vertical-align: middle;\n",
       "    }\n",
       "\n",
       "    .dataframe tbody tr th {\n",
       "        vertical-align: top;\n",
       "    }\n",
       "\n",
       "    .dataframe thead th {\n",
       "        text-align: right;\n",
       "    }\n",
       "</style>\n",
       "<table border=\"1\" class=\"dataframe\">\n",
       "  <thead>\n",
       "    <tr style=\"text-align: right;\">\n",
       "      <th></th>\n",
       "      <th>account_id</th>\n",
       "      <th>district_id</th>\n",
       "      <th>statement_freq</th>\n",
       "      <th>date</th>\n",
       "      <th>client_id</th>\n",
       "      <th>gender</th>\n",
       "      <th>DateOfBirth</th>\n",
       "    </tr>\n",
       "  </thead>\n",
       "  <tbody>\n",
       "    <tr>\n",
       "      <th>0</th>\n",
       "      <td>3818</td>\n",
       "      <td>74</td>\n",
       "      <td>Monthly</td>\n",
       "      <td>1993-01-01</td>\n",
       "      <td>26</td>\n",
       "      <td>Female</td>\n",
       "      <td>1969-04-20</td>\n",
       "    </tr>\n",
       "    <tr>\n",
       "      <th>1</th>\n",
       "      <td>3818</td>\n",
       "      <td>74</td>\n",
       "      <td>Monthly</td>\n",
       "      <td>1993-01-01</td>\n",
       "      <td>30</td>\n",
       "      <td>Female</td>\n",
       "      <td>1957-10-09</td>\n",
       "    </tr>\n",
       "    <tr>\n",
       "      <th>2</th>\n",
       "      <td>3818</td>\n",
       "      <td>74</td>\n",
       "      <td>Monthly</td>\n",
       "      <td>1993-01-01</td>\n",
       "      <td>92</td>\n",
       "      <td>Female</td>\n",
       "      <td>1966-06-12</td>\n",
       "    </tr>\n",
       "    <tr>\n",
       "      <th>3</th>\n",
       "      <td>3818</td>\n",
       "      <td>74</td>\n",
       "      <td>Monthly</td>\n",
       "      <td>1993-01-01</td>\n",
       "      <td>96</td>\n",
       "      <td>Male</td>\n",
       "      <td>1972-02-29</td>\n",
       "    </tr>\n",
       "    <tr>\n",
       "      <th>4</th>\n",
       "      <td>3818</td>\n",
       "      <td>74</td>\n",
       "      <td>Monthly</td>\n",
       "      <td>1993-01-01</td>\n",
       "      <td>102</td>\n",
       "      <td>Female</td>\n",
       "      <td>1958-09-10</td>\n",
       "    </tr>\n",
       "  </tbody>\n",
       "</table>\n",
       "</div>"
      ],
      "text/plain": [
       "   account_id  district_id statement_freq        date  client_id  gender  \\\n",
       "0        3818           74        Monthly  1993-01-01         26  Female   \n",
       "1        3818           74        Monthly  1993-01-01         30  Female   \n",
       "2        3818           74        Monthly  1993-01-01         92  Female   \n",
       "3        3818           74        Monthly  1993-01-01         96    Male   \n",
       "4        3818           74        Monthly  1993-01-01        102  Female   \n",
       "\n",
       "  DateOfBirth  \n",
       "0  1969-04-20  \n",
       "1  1957-10-09  \n",
       "2  1966-06-12  \n",
       "3  1972-02-29  \n",
       "4  1958-09-10  "
      ]
     },
     "execution_count": 19,
     "metadata": {},
     "output_type": "execute_result"
    }
   ],
   "source": [
    "# Merge DataFrames to create the client file\n",
    "client_file =pd.merge(accounts_df,client_df,how='inner',on='district_id')\n",
    "client_file.head()"
   ]
  },
  {
   "cell_type": "code",
   "execution_count": 20,
   "id": "cda9a7f8",
   "metadata": {},
   "outputs": [
    {
     "data": {
      "application/vnd.microsoft.datawrangler.viewer.v0+json": {
       "columns": [
        {
         "name": "index",
         "rawType": "int64",
         "type": "integer"
        },
        {
         "name": "account_id",
         "rawType": "int64",
         "type": "integer"
        },
        {
         "name": "district_id",
         "rawType": "int64",
         "type": "integer"
        },
        {
         "name": "statement_freq",
         "rawType": "object",
         "type": "string"
        },
        {
         "name": "client_id",
         "rawType": "int64",
         "type": "integer"
        },
        {
         "name": "gender",
         "rawType": "object",
         "type": "string"
        },
        {
         "name": "DateOfBirth",
         "rawType": "object",
         "type": "string"
        },
        {
         "name": "loan_id",
         "rawType": "int64",
         "type": "integer"
        },
        {
         "name": "date",
         "rawType": "object",
         "type": "string"
        },
        {
         "name": "amount",
         "rawType": "int64",
         "type": "integer"
        },
        {
         "name": "duration",
         "rawType": "int64",
         "type": "integer"
        },
        {
         "name": "payments",
         "rawType": "int64",
         "type": "integer"
        },
        {
         "name": "contract_status",
         "rawType": "object",
         "type": "string"
        },
        {
         "name": "isdebt",
         "rawType": "object",
         "type": "string"
        }
       ],
       "conversionMethod": "pd.DataFrame",
       "ref": "0e26969c-80d7-47df-854e-54503f961f3f",
       "rows": [
        [
         "0",
         "5270",
         "44",
         "Monthly",
         "100",
         "Female",
         "1942-08-11",
         "6077",
         "1993-11-22",
         "79608",
         "24",
         "3317",
         "Contract Closed",
         "No"
        ],
        [
         "1",
         "5270",
         "44",
         "Monthly",
         "124",
         "Male",
         "1967-09-21",
         "6077",
         "1993-11-22",
         "79608",
         "24",
         "3317",
         "Contract Closed",
         "No"
        ],
        [
         "2",
         "5270",
         "44",
         "Monthly",
         "235",
         "Female",
         "1943-08-28",
         "6077",
         "1993-11-22",
         "79608",
         "24",
         "3317",
         "Contract Closed",
         "No"
        ],
        [
         "3",
         "5270",
         "44",
         "Monthly",
         "343",
         "Male",
         "1919-11-19",
         "6077",
         "1993-11-22",
         "79608",
         "24",
         "3317",
         "Contract Closed",
         "No"
        ],
        [
         "4",
         "5270",
         "44",
         "Monthly",
         "471",
         "Male",
         "1977-01-11",
         "6077",
         "1993-11-22",
         "79608",
         "24",
         "3317",
         "Contract Closed",
         "No"
        ]
       ],
       "shape": {
        "columns": 13,
        "rows": 5
       }
      },
      "text/html": [
       "<div>\n",
       "<style scoped>\n",
       "    .dataframe tbody tr th:only-of-type {\n",
       "        vertical-align: middle;\n",
       "    }\n",
       "\n",
       "    .dataframe tbody tr th {\n",
       "        vertical-align: top;\n",
       "    }\n",
       "\n",
       "    .dataframe thead th {\n",
       "        text-align: right;\n",
       "    }\n",
       "</style>\n",
       "<table border=\"1\" class=\"dataframe\">\n",
       "  <thead>\n",
       "    <tr style=\"text-align: right;\">\n",
       "      <th></th>\n",
       "      <th>account_id</th>\n",
       "      <th>district_id</th>\n",
       "      <th>statement_freq</th>\n",
       "      <th>client_id</th>\n",
       "      <th>gender</th>\n",
       "      <th>DateOfBirth</th>\n",
       "      <th>loan_id</th>\n",
       "      <th>date</th>\n",
       "      <th>amount</th>\n",
       "      <th>duration</th>\n",
       "      <th>payments</th>\n",
       "      <th>contract_status</th>\n",
       "      <th>isdebt</th>\n",
       "    </tr>\n",
       "  </thead>\n",
       "  <tbody>\n",
       "    <tr>\n",
       "      <th>0</th>\n",
       "      <td>5270</td>\n",
       "      <td>44</td>\n",
       "      <td>Monthly</td>\n",
       "      <td>100</td>\n",
       "      <td>Female</td>\n",
       "      <td>1942-08-11</td>\n",
       "      <td>6077</td>\n",
       "      <td>1993-11-22</td>\n",
       "      <td>79608</td>\n",
       "      <td>24</td>\n",
       "      <td>3317</td>\n",
       "      <td>Contract Closed</td>\n",
       "      <td>No</td>\n",
       "    </tr>\n",
       "    <tr>\n",
       "      <th>1</th>\n",
       "      <td>5270</td>\n",
       "      <td>44</td>\n",
       "      <td>Monthly</td>\n",
       "      <td>124</td>\n",
       "      <td>Male</td>\n",
       "      <td>1967-09-21</td>\n",
       "      <td>6077</td>\n",
       "      <td>1993-11-22</td>\n",
       "      <td>79608</td>\n",
       "      <td>24</td>\n",
       "      <td>3317</td>\n",
       "      <td>Contract Closed</td>\n",
       "      <td>No</td>\n",
       "    </tr>\n",
       "    <tr>\n",
       "      <th>2</th>\n",
       "      <td>5270</td>\n",
       "      <td>44</td>\n",
       "      <td>Monthly</td>\n",
       "      <td>235</td>\n",
       "      <td>Female</td>\n",
       "      <td>1943-08-28</td>\n",
       "      <td>6077</td>\n",
       "      <td>1993-11-22</td>\n",
       "      <td>79608</td>\n",
       "      <td>24</td>\n",
       "      <td>3317</td>\n",
       "      <td>Contract Closed</td>\n",
       "      <td>No</td>\n",
       "    </tr>\n",
       "    <tr>\n",
       "      <th>3</th>\n",
       "      <td>5270</td>\n",
       "      <td>44</td>\n",
       "      <td>Monthly</td>\n",
       "      <td>343</td>\n",
       "      <td>Male</td>\n",
       "      <td>1919-11-19</td>\n",
       "      <td>6077</td>\n",
       "      <td>1993-11-22</td>\n",
       "      <td>79608</td>\n",
       "      <td>24</td>\n",
       "      <td>3317</td>\n",
       "      <td>Contract Closed</td>\n",
       "      <td>No</td>\n",
       "    </tr>\n",
       "    <tr>\n",
       "      <th>4</th>\n",
       "      <td>5270</td>\n",
       "      <td>44</td>\n",
       "      <td>Monthly</td>\n",
       "      <td>471</td>\n",
       "      <td>Male</td>\n",
       "      <td>1977-01-11</td>\n",
       "      <td>6077</td>\n",
       "      <td>1993-11-22</td>\n",
       "      <td>79608</td>\n",
       "      <td>24</td>\n",
       "      <td>3317</td>\n",
       "      <td>Contract Closed</td>\n",
       "      <td>No</td>\n",
       "    </tr>\n",
       "  </tbody>\n",
       "</table>\n",
       "</div>"
      ],
      "text/plain": [
       "   account_id  district_id statement_freq  client_id  gender DateOfBirth  \\\n",
       "0        5270           44        Monthly        100  Female  1942-08-11   \n",
       "1        5270           44        Monthly        124    Male  1967-09-21   \n",
       "2        5270           44        Monthly        235  Female  1943-08-28   \n",
       "3        5270           44        Monthly        343    Male  1919-11-19   \n",
       "4        5270           44        Monthly        471    Male  1977-01-11   \n",
       "\n",
       "   loan_id        date  amount  duration  payments  contract_status isdebt  \n",
       "0     6077  1993-11-22   79608        24      3317  Contract Closed     No  \n",
       "1     6077  1993-11-22   79608        24      3317  Contract Closed     No  \n",
       "2     6077  1993-11-22   79608        24      3317  Contract Closed     No  \n",
       "3     6077  1993-11-22   79608        24      3317  Contract Closed     No  \n",
       "4     6077  1993-11-22   79608        24      3317  Contract Closed     No  "
      ]
     },
     "execution_count": 20,
     "metadata": {},
     "output_type": "execute_result"
    }
   ],
   "source": [
    "client_file = pd.merge(client_file[['account_id','district_id','statement_freq','client_id','gender','DateOfBirth']],loan_df,how='inner',on='account_id')\n",
    "client_file.head()"
   ]
  },
  {
   "cell_type": "code",
   "execution_count": 21,
   "id": "f41c2f3b",
   "metadata": {},
   "outputs": [
    {
     "data": {
      "application/vnd.microsoft.datawrangler.viewer.v0+json": {
       "columns": [
        {
         "name": "index",
         "rawType": "int64",
         "type": "integer"
        },
        {
         "name": "account_id",
         "rawType": "int64",
         "type": "integer"
        },
        {
         "name": "district_id",
         "rawType": "int64",
         "type": "integer"
        },
        {
         "name": "statement_freq",
         "rawType": "object",
         "type": "string"
        },
        {
         "name": "client_id",
         "rawType": "int64",
         "type": "integer"
        },
        {
         "name": "gender",
         "rawType": "object",
         "type": "string"
        },
        {
         "name": "DateOfBirth",
         "rawType": "object",
         "type": "string"
        },
        {
         "name": "loan_id",
         "rawType": "int64",
         "type": "integer"
        },
        {
         "name": "date",
         "rawType": "object",
         "type": "string"
        },
        {
         "name": "amount",
         "rawType": "int64",
         "type": "integer"
        },
        {
         "name": "duration",
         "rawType": "int64",
         "type": "integer"
        },
        {
         "name": "payments",
         "rawType": "int64",
         "type": "integer"
        },
        {
         "name": "contract_status",
         "rawType": "object",
         "type": "string"
        },
        {
         "name": "isdebt",
         "rawType": "object",
         "type": "string"
        },
        {
         "name": "dis_name",
         "rawType": "object",
         "type": "string"
        },
        {
         "name": "Region",
         "rawType": "object",
         "type": "string"
        },
        {
         "name": "Avg_Salary",
         "rawType": "int64",
         "type": "integer"
        },
        {
         "name": "UnempRate95",
         "rawType": "float64",
         "type": "float"
        },
        {
         "name": "UnempRate96",
         "rawType": "float64",
         "type": "float"
        }
       ],
       "conversionMethod": "pd.DataFrame",
       "ref": "df1f724f-ee64-4882-aab7-f5b2866903c0",
       "rows": [
        [
         "0",
         "5270",
         "44",
         "Monthly",
         "100",
         "Female",
         "1942-08-11",
         "6077",
         "1993-11-22",
         "79608",
         "24",
         "3317",
         "Contract Closed",
         "No",
         "Chrudim",
         "east Bohemia",
         "8254",
         "2.79",
         "3.76"
        ],
        [
         "1",
         "5270",
         "44",
         "Monthly",
         "124",
         "Male",
         "1967-09-21",
         "6077",
         "1993-11-22",
         "79608",
         "24",
         "3317",
         "Contract Closed",
         "No",
         "Chrudim",
         "east Bohemia",
         "8254",
         "2.79",
         "3.76"
        ],
        [
         "2",
         "5270",
         "44",
         "Monthly",
         "235",
         "Female",
         "1943-08-28",
         "6077",
         "1993-11-22",
         "79608",
         "24",
         "3317",
         "Contract Closed",
         "No",
         "Chrudim",
         "east Bohemia",
         "8254",
         "2.79",
         "3.76"
        ],
        [
         "3",
         "5270",
         "44",
         "Monthly",
         "343",
         "Male",
         "1919-11-19",
         "6077",
         "1993-11-22",
         "79608",
         "24",
         "3317",
         "Contract Closed",
         "No",
         "Chrudim",
         "east Bohemia",
         "8254",
         "2.79",
         "3.76"
        ],
        [
         "4",
         "5270",
         "44",
         "Monthly",
         "471",
         "Male",
         "1977-01-11",
         "6077",
         "1993-11-22",
         "79608",
         "24",
         "3317",
         "Contract Closed",
         "No",
         "Chrudim",
         "east Bohemia",
         "8254",
         "2.79",
         "3.76"
        ]
       ],
       "shape": {
        "columns": 18,
        "rows": 5
       }
      },
      "text/html": [
       "<div>\n",
       "<style scoped>\n",
       "    .dataframe tbody tr th:only-of-type {\n",
       "        vertical-align: middle;\n",
       "    }\n",
       "\n",
       "    .dataframe tbody tr th {\n",
       "        vertical-align: top;\n",
       "    }\n",
       "\n",
       "    .dataframe thead th {\n",
       "        text-align: right;\n",
       "    }\n",
       "</style>\n",
       "<table border=\"1\" class=\"dataframe\">\n",
       "  <thead>\n",
       "    <tr style=\"text-align: right;\">\n",
       "      <th></th>\n",
       "      <th>account_id</th>\n",
       "      <th>district_id</th>\n",
       "      <th>statement_freq</th>\n",
       "      <th>client_id</th>\n",
       "      <th>gender</th>\n",
       "      <th>DateOfBirth</th>\n",
       "      <th>loan_id</th>\n",
       "      <th>date</th>\n",
       "      <th>amount</th>\n",
       "      <th>duration</th>\n",
       "      <th>payments</th>\n",
       "      <th>contract_status</th>\n",
       "      <th>isdebt</th>\n",
       "      <th>dis_name</th>\n",
       "      <th>Region</th>\n",
       "      <th>Avg_Salary</th>\n",
       "      <th>UnempRate95</th>\n",
       "      <th>UnempRate96</th>\n",
       "    </tr>\n",
       "  </thead>\n",
       "  <tbody>\n",
       "    <tr>\n",
       "      <th>0</th>\n",
       "      <td>5270</td>\n",
       "      <td>44</td>\n",
       "      <td>Monthly</td>\n",
       "      <td>100</td>\n",
       "      <td>Female</td>\n",
       "      <td>1942-08-11</td>\n",
       "      <td>6077</td>\n",
       "      <td>1993-11-22</td>\n",
       "      <td>79608</td>\n",
       "      <td>24</td>\n",
       "      <td>3317</td>\n",
       "      <td>Contract Closed</td>\n",
       "      <td>No</td>\n",
       "      <td>Chrudim</td>\n",
       "      <td>east Bohemia</td>\n",
       "      <td>8254</td>\n",
       "      <td>2.79</td>\n",
       "      <td>3.76</td>\n",
       "    </tr>\n",
       "    <tr>\n",
       "      <th>1</th>\n",
       "      <td>5270</td>\n",
       "      <td>44</td>\n",
       "      <td>Monthly</td>\n",
       "      <td>124</td>\n",
       "      <td>Male</td>\n",
       "      <td>1967-09-21</td>\n",
       "      <td>6077</td>\n",
       "      <td>1993-11-22</td>\n",
       "      <td>79608</td>\n",
       "      <td>24</td>\n",
       "      <td>3317</td>\n",
       "      <td>Contract Closed</td>\n",
       "      <td>No</td>\n",
       "      <td>Chrudim</td>\n",
       "      <td>east Bohemia</td>\n",
       "      <td>8254</td>\n",
       "      <td>2.79</td>\n",
       "      <td>3.76</td>\n",
       "    </tr>\n",
       "    <tr>\n",
       "      <th>2</th>\n",
       "      <td>5270</td>\n",
       "      <td>44</td>\n",
       "      <td>Monthly</td>\n",
       "      <td>235</td>\n",
       "      <td>Female</td>\n",
       "      <td>1943-08-28</td>\n",
       "      <td>6077</td>\n",
       "      <td>1993-11-22</td>\n",
       "      <td>79608</td>\n",
       "      <td>24</td>\n",
       "      <td>3317</td>\n",
       "      <td>Contract Closed</td>\n",
       "      <td>No</td>\n",
       "      <td>Chrudim</td>\n",
       "      <td>east Bohemia</td>\n",
       "      <td>8254</td>\n",
       "      <td>2.79</td>\n",
       "      <td>3.76</td>\n",
       "    </tr>\n",
       "    <tr>\n",
       "      <th>3</th>\n",
       "      <td>5270</td>\n",
       "      <td>44</td>\n",
       "      <td>Monthly</td>\n",
       "      <td>343</td>\n",
       "      <td>Male</td>\n",
       "      <td>1919-11-19</td>\n",
       "      <td>6077</td>\n",
       "      <td>1993-11-22</td>\n",
       "      <td>79608</td>\n",
       "      <td>24</td>\n",
       "      <td>3317</td>\n",
       "      <td>Contract Closed</td>\n",
       "      <td>No</td>\n",
       "      <td>Chrudim</td>\n",
       "      <td>east Bohemia</td>\n",
       "      <td>8254</td>\n",
       "      <td>2.79</td>\n",
       "      <td>3.76</td>\n",
       "    </tr>\n",
       "    <tr>\n",
       "      <th>4</th>\n",
       "      <td>5270</td>\n",
       "      <td>44</td>\n",
       "      <td>Monthly</td>\n",
       "      <td>471</td>\n",
       "      <td>Male</td>\n",
       "      <td>1977-01-11</td>\n",
       "      <td>6077</td>\n",
       "      <td>1993-11-22</td>\n",
       "      <td>79608</td>\n",
       "      <td>24</td>\n",
       "      <td>3317</td>\n",
       "      <td>Contract Closed</td>\n",
       "      <td>No</td>\n",
       "      <td>Chrudim</td>\n",
       "      <td>east Bohemia</td>\n",
       "      <td>8254</td>\n",
       "      <td>2.79</td>\n",
       "      <td>3.76</td>\n",
       "    </tr>\n",
       "  </tbody>\n",
       "</table>\n",
       "</div>"
      ],
      "text/plain": [
       "   account_id  district_id statement_freq  client_id  gender DateOfBirth  \\\n",
       "0        5270           44        Monthly        100  Female  1942-08-11   \n",
       "1        5270           44        Monthly        124    Male  1967-09-21   \n",
       "2        5270           44        Monthly        235  Female  1943-08-28   \n",
       "3        5270           44        Monthly        343    Male  1919-11-19   \n",
       "4        5270           44        Monthly        471    Male  1977-01-11   \n",
       "\n",
       "   loan_id        date  amount  duration  payments  contract_status isdebt  \\\n",
       "0     6077  1993-11-22   79608        24      3317  Contract Closed     No   \n",
       "1     6077  1993-11-22   79608        24      3317  Contract Closed     No   \n",
       "2     6077  1993-11-22   79608        24      3317  Contract Closed     No   \n",
       "3     6077  1993-11-22   79608        24      3317  Contract Closed     No   \n",
       "4     6077  1993-11-22   79608        24      3317  Contract Closed     No   \n",
       "\n",
       "  dis_name        Region  Avg_Salary  UnempRate95  UnempRate96  \n",
       "0  Chrudim  east Bohemia        8254         2.79         3.76  \n",
       "1  Chrudim  east Bohemia        8254         2.79         3.76  \n",
       "2  Chrudim  east Bohemia        8254         2.79         3.76  \n",
       "3  Chrudim  east Bohemia        8254         2.79         3.76  \n",
       "4  Chrudim  east Bohemia        8254         2.79         3.76  "
      ]
     },
     "execution_count": 21,
     "metadata": {},
     "output_type": "execute_result"
    }
   ],
   "source": [
    "client_file = pd.merge(client_file,district_df[['district_id', 'dis_name', 'Region','Avg_Salary', 'UnempRate95', 'UnempRate96']],how='inner',on='district_id')\n",
    "client_file.head()"
   ]
  },
  {
   "cell_type": "code",
   "execution_count": 22,
   "id": "f5b1f2c7",
   "metadata": {},
   "outputs": [],
   "source": [
    "client_file.to_csv(\"data/bank_loan.csv\", index=False)"
   ]
  }
 ],
 "metadata": {
  "kernelspec": {
   "display_name": ".venv",
   "language": "python",
   "name": "python3"
  },
  "language_info": {
   "codemirror_mode": {
    "name": "ipython",
    "version": 3
   },
   "file_extension": ".py",
   "mimetype": "text/x-python",
   "name": "python",
   "nbconvert_exporter": "python",
   "pygments_lexer": "ipython3",
   "version": "3.12.3"
  }
 },
 "nbformat": 4,
 "nbformat_minor": 5
}
