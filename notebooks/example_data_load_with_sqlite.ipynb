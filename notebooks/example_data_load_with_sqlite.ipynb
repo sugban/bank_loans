{
 "cells": [
  {
   "cell_type": "code",
   "execution_count": null,
   "id": "bf8c35bd",
   "metadata": {},
   "outputs": [],
   "source": [
    "import pandas as pd\n",
    "import sqlite3\n",
    "from sqlalchemy import create_engine\n"
   ]
  },
  {
   "cell_type": "code",
   "execution_count": null,
   "id": "ba84ade3",
   "metadata": {},
   "outputs": [],
   "source": [
    "# Connect to database  using sqlite3\n",
    "connection = sqlite3.connect('bankloan.db')"
   ]
  },
  {
   "cell_type": "code",
   "execution_count": null,
   "id": "777c7886",
   "metadata": {},
   "outputs": [
    {
     "name": "stdout",
     "output_type": "stream",
     "text": [
      "List of tables\n",
      "\n",
      "[('client_loan',)]\n"
     ]
    }
   ],
   "source": [
    "\n",
    "# Creating table query\n",
    "sql_query = \"\"\"\n",
    "CREATE TABLE client_loan (\n",
    "    account_id       INTEGER,\n",
    "    district_id      INTEGER,\n",
    "    statement_freq   VARCHAR(50),\n",
    "    client_id        INTEGER,\n",
    "    gender           VARCHAR(10),\n",
    "    DateOfBirth      DATE,\n",
    "    loan_id          VARCHAR(50),\n",
    "    loan_date        DATE,\n",
    "    amount           REAL,\n",
    "    duration         INTEGER,\n",
    "    payments         REAL,\n",
    "    contract_status  VARCHAR(20),\n",
    "    isdebt          VARCHAR(10),\n",
    "    dis_name        VARCHAR(50),\n",
    "    Region          VARCHAR(50),\n",
    "    Avg_Salary      REAL,\n",
    "    UnempRate95     REAL,\n",
    "    UnempRate96     REAL\n",
    ");\n",
    "\"\"\"\n",
    "# Creating cursor object using connection obj\n",
    "cursor = connection.cursor()\n",
    "\t\n",
    "#sql query to get all the tables\n",
    "sql_query = \"\"\"SELECT * FROM bankloan  \n",
    "  WHERE type='table';\"\"\"\n",
    "  \n",
    "# executing our sql query\n",
    "cursor.execute(sql_query)\n",
    "print(\"List of tables\\n\")\n",
    "\n",
    "# printing all tables list\n",
    "print(cursor.fetchall())"
   ]
  },
  {
   "cell_type": "code",
   "execution_count": null,
   "id": "ce277ff2",
   "metadata": {},
   "outputs": [
    {
     "name": "stdout",
     "output_type": "stream",
     "text": [
      "(5270, 44, 'Monthly', 100, 'Female', '1942-08-11', 6077, '1993-11-22', 79608, 24, 3317, 'Contract Closed', 'No', 'Chrudim', 'east Bohemia', 8254, 2.79, 3.76)\n",
      "(5270, 44, 'Monthly', 124, 'Male', '1967-09-21', 6077, '1993-11-22', 79608, 24, 3317, 'Contract Closed', 'No', 'Chrudim', 'east Bohemia', 8254, 2.79, 3.76)\n",
      "(5270, 44, 'Monthly', 235, 'Female', '1943-08-28', 6077, '1993-11-22', 79608, 24, 3317, 'Contract Closed', 'No', 'Chrudim', 'east Bohemia', 8254, 2.79, 3.76)\n",
      "(5270, 44, 'Monthly', 343, 'Male', '1919-11-19', 6077, '1993-11-22', 79608, 24, 3317, 'Contract Closed', 'No', 'Chrudim', 'east Bohemia', 8254, 2.79, 3.76)\n",
      "(5270, 44, 'Monthly', 471, 'Male', '1977-01-11', 6077, '1993-11-22', 79608, 24, 3317, 'Contract Closed', 'No', 'Chrudim', 'east Bohemia', 8254, 2.79, 3.76)\n",
      "(5270, 44, 'Monthly', 590, 'Male', '1949-02-15', 6077, '1993-11-22', 79608, 24, 3317, 'Contract Closed', 'No', 'Chrudim', 'east Bohemia', 8254, 2.79, 3.76)\n",
      "(5270, 44, 'Monthly', 993, 'Female', '1969-10-31', 6077, '1993-11-22', 79608, 24, 3317, 'Contract Closed', 'No', 'Chrudim', 'east Bohemia', 8254, 2.79, 3.76)\n",
      "(5270, 44, 'Monthly', 1001, 'Male', '1947-04-14', 6077, '1993-11-22', 79608, 24, 3317, 'Contract Closed', 'No', 'Chrudim', 'east Bohemia', 8254, 2.79, 3.76)\n",
      "(5270, 44, 'Monthly', 1274, 'Male', '1976-01-25', 6077, '1993-11-22', 79608, 24, 3317, 'Contract Closed', 'No', 'Chrudim', 'east Bohemia', 8254, 2.79, 3.76)\n",
      "(5270, 44, 'Monthly', 1380, 'Female', '1953-07-29', 6077, '1993-11-22', 79608, 24, 3317, 'Contract Closed', 'No', 'Chrudim', 'east Bohemia', 8254, 2.79, 3.76)\n"
     ]
    }
   ],
   "source": [
    "# Read CSV into pandas DataFrame  \n",
    "df = pd.read_csv('data/bank_loan.csv')   \n",
    "\n",
    "# Write DataFrame to SQL table (replace 'your_table_name' with your table)  \n",
    "df.to_sql('client_loan', connection, if_exists='replace', index=False)  \n",
    "\n",
    "\n",
    "#executing sql query to fetch the data from the table\n",
    "cursor.execute(\"SELECT * FROM client_loan limit 10\")\n",
    "rows = cursor.fetchall()\n",
    "\n",
    "# Print the retrieved data\n",
    "for row in rows:\n",
    "    print(row)\n",
    "\n",
    "\n",
    "# Commit and close\n",
    "connection.commit()\n",
    "connection.close()\n"
   ]
  },
  {
   "cell_type": "code",
   "execution_count": null,
   "id": "c05a9755",
   "metadata": {},
   "outputs": [],
   "source": []
  }
 ],
 "metadata": {
  "language_info": {
   "name": "python"
  }
 },
 "nbformat": 4,
 "nbformat_minor": 5
}
